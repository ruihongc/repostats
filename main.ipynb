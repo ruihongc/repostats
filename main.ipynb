{
 "cells": [
  {
   "cell_type": "markdown",
   "metadata": {},
   "source": [
    "# RepoStats\n",
    "Query and generate statistics and information from any local git repository. Supports 3 types of queries.\n",
    "\n",
    "### Query for modifications and stats\n",
    "Query within a range of commits (inclusive) for a list of modified files/folders (or ones with a modified file somewhere down the directory subtree). Result list contains only files/folders up to the specified depth relative to the specified directory. Various parameters can be set to restrict the definition of a \"modified\" file, which will only alter the result list and other stats computed based on modified files.\n",
    "\n",
    "### Commits affecting paths\n",
    "Get a dictionary of the number of modifications made by each commit to a path or within its subpaths.\n",
    "\n",
    "### Existential test\n",
    "Whether a file existed, came into existence, ceased to exist or never existed within the range of commits specified, for all the files that ever existed in the whole repo history."
   ]
  },
  {
   "cell_type": "markdown",
   "metadata": {},
   "source": [
    "## Required libraries"
   ]
  },
  {
   "cell_type": "code",
   "execution_count": null,
   "metadata": {},
   "outputs": [],
   "source": [
    "!python -m pip install tqdm pydriller numpy"
   ]
  },
  {
   "cell_type": "markdown",
   "metadata": {},
   "source": [
    "## Imports"
   ]
  },
  {
   "cell_type": "code",
   "execution_count": 6,
   "metadata": {},
   "outputs": [],
   "source": [
    "# from repostats import RepoStats, DotDict\n",
    "from lib import RepoStats\n",
    "from structures import DotDict\n",
    "import sys"
   ]
  },
  {
   "cell_type": "markdown",
   "metadata": {},
   "source": [
    "## Initialize RepoStats with a local repo"
   ]
  },
  {
   "cell_type": "code",
   "execution_count": null,
   "metadata": {},
   "outputs": [],
   "source": [
    "# load commits\n",
    "# from_commit and to_commit represent the entire repo history available to the program\n",
    "data = RepoStats(\n",
    "    path = \"path/to/git/repo/root\",\n",
    "    from_commit = \"<full_length_40_char_hex_string_commit_hash>\", # inclusive\n",
    "    to_commit = \"<full_length_40_char_hex_string_commit_hash>\", # inclusive\n",
    ")"
   ]
  },
  {
   "cell_type": "code",
   "execution_count": null,
   "metadata": {},
   "outputs": [],
   "source": [
    "# save data to disk\n",
    "data.save(\"path/to/save/to/<path>_<from_commit>_<to_commit>.pkl\")"
   ]
  },
  {
   "cell_type": "code",
   "execution_count": null,
   "metadata": {},
   "outputs": [],
   "source": [
    "# load data from disk\n",
    "filename = \"path/to/load/from/<path>_<from_commit>_<to_commit>.pkl\"\n",
    "data = RepoStats.load(filename)\n",
    "data.update_methods(RepoStats)"
   ]
  },
  {
   "cell_type": "code",
   "execution_count": null,
   "metadata": {},
   "outputs": [],
   "source": [
    "# commits (warning: may be a lot)\n",
    "data.commit_index.keys()"
   ]
  },
  {
   "cell_type": "code",
   "execution_count": null,
   "metadata": {},
   "outputs": [],
   "source": [
    "# just 2nd and 2nd last\n",
    "l = list(data.commit_index.keys())\n",
    "l[1], l[-2]"
   ]
  },
  {
   "cell_type": "markdown",
   "metadata": {},
   "source": [
    "## Query for modifications and stats\n",
    "Query within a range of commits (inclusive) for list of modified files/folders (or ones with a modified file somewhere down the directory subtree). Result list contains only files/folders up to the specified depth relative to the specified directory. Various parameters can be set to restrict the definition of a \"modified\" file, which will only alter the result list and other stats computed based on modified files."
   ]
  },
  {
   "cell_type": "code",
   "execution_count": null,
   "metadata": {},
   "outputs": [],
   "source": [
    "# query for modifications and stats\n",
    "# percentage change is the number of inserted lines divided by the number of lines in the resultant file\n",
    "# lines changes count as one line deletion and one line insertion\n",
    "query_params = DotDict(\n",
    "    # required params\n",
    "    commit1 = \"<full_length_40_char_hex_string_commit_hash>\", # Range query start (commit hash)\n",
    "    commit2 = \"<full_length_40_char_hex_string_commit_hash>\", # Range query end (commit hash), set it to the same as commit1 for a single commit\n",
    "    # optional params\n",
    "    subfolder = \"\", # Subfolder (leave blank for root)\n",
    "    depth = 1, # Output depth (search depth is infinite, negative to output everything)\n",
    "    min_changes = 1, # Min number of times file is modified (inclusive)\n",
    "    max_changes = -1, # Max number of times file is modified (inclusive, negative for infinity)\n",
    "    avg_min = 0, # Min average percentage change of files considered to be modified (inclusive)\n",
    "    avg_max = -1, # Max average percentage change of files considered to be modified (inclusive, negative for infinity)\n",
    "    avg_variance_min = 0, # Min variance of the average percentage change of files considered to be modified (inclusive)\n",
    "    avg_variance_max = -1, # Max variance of the percentage change of files considered to be modified (inclusive, negative for infinity)\n",
    "    variance_min = 0, # Min average of how evenly spread are the lines changed in each file across the commits\n",
    "    variance_max = -1, # Max average of how evenly spread are the lines changed in each file across the commits\n",
    "    variance_variance_min = 0, # Min variance of the average of how evenly spread are the lines changed in each file across the commits\n",
    "    variance_variance_max = -1, # Max variance of the average of how evenly spread are the lines changed in each file across the commits\n",
    "    freq_avg_min = 0, # Min frequency (seconds/change) change of files considered to be modified (inclusive)\n",
    "    freq_avg_max = -1, # Max frequency (seconds/change) change of files considered to be modified (inclusive, negative for infinity)\n",
    ")\n",
    "\n",
    "stats = data.query(query_params)"
   ]
  },
  {
   "cell_type": "code",
   "execution_count": null,
   "metadata": {},
   "outputs": [],
   "source": [
    "# files/folders containing valid modifications within query range\n",
    "stats.results"
   ]
  },
  {
   "cell_type": "code",
   "execution_count": null,
   "metadata": {},
   "outputs": [],
   "source": [
    "# list stat attributes\n",
    "list(stats)"
   ]
  },
  {
   "cell_type": "code",
   "execution_count": null,
   "metadata": {},
   "outputs": [],
   "source": [
    "stats.files_mod, stats.files, stats.total, stats.total_weighted, stats.change_count"
   ]
  },
  {
   "cell_type": "code",
   "execution_count": null,
   "metadata": {},
   "outputs": [],
   "source": [
    "# variance cannot be negative\n",
    "[(i, stats.avg_variance[i]) for i in stats.avg_variance if stats.avg_variance[i] < -sys.float_info.epsilon]"
   ]
  },
  {
   "cell_type": "code",
   "execution_count": null,
   "metadata": {},
   "outputs": [],
   "source": [
    "# variance cannot be negative\n",
    "[(i, stats.variance[i]) for i in stats.variance if stats.variance[i] < -sys.float_info.epsilon]"
   ]
  },
  {
   "cell_type": "code",
   "execution_count": null,
   "metadata": {},
   "outputs": [],
   "source": [
    "# negative variances due to catastrophic cancellation...\n",
    "# should be ignored\n",
    "[(i, stats.variance_variance[i]) for i in stats.variance_variance if stats.variance_variance[i] < -sys.float_info.epsilon]"
   ]
  },
  {
   "cell_type": "code",
   "execution_count": null,
   "metadata": {},
   "outputs": [],
   "source": [
    "[(i, f'{stats.freq_avg[i]} seconds or {stats.freq_avg[i]/3600:.2f} hours') for i in stats.freq_avg if stats.freq_avg[i] != float('inf')]"
   ]
  },
  {
   "cell_type": "markdown",
   "metadata": {},
   "source": [
    "## Commits affecting paths\n",
    "Get a dictionary of the number of modifications made by each commit to a path or within its subpaths."
   ]
  },
  {
   "cell_type": "code",
   "execution_count": null,
   "metadata": {},
   "outputs": [],
   "source": [
    "# query for commits affecting paths (TODO: classify by commit type also)\n",
    "commit_params = DotDict(\n",
    "    # required params\n",
    "    commit1 = \"<full_length_40_char_hex_string_commit_hash>\", # Range query start (commit hash)\n",
    "    commit2 = \"<full_length_40_char_hex_string_commit_hash>\", # Range query end (commit hash), set it to the same as commit1 for a single commit\n",
    "    # optional params\n",
    "    subfolder = \"\", # Subfolder (leave blank for root)\n",
    ")\n",
    "\n",
    "commits = data.modifications(commit_params)"
   ]
  },
  {
   "cell_type": "code",
   "execution_count": null,
   "metadata": {},
   "outputs": [],
   "source": [
    "# number of files affected by each commit\n",
    "commits"
   ]
  },
  {
   "cell_type": "markdown",
   "metadata": {},
   "source": [
    "## Existential test\n",
    "Whether a file existed, came into existence, ceased to exist or never existed within the range of commits specified, for all the files that ever existed in the whole repo history."
   ]
  },
  {
   "cell_type": "code",
   "execution_count": null,
   "metadata": {},
   "outputs": [],
   "source": [
    "# query for file existence\n",
    "exist_params = DotDict(\n",
    "    # required params\n",
    "    commit1 = \"<full_length_40_char_hex_string_commit_hash>\", # Range query start (commit hash)\n",
    "    commit2 = \"<full_length_40_char_hex_string_commit_hash>\", # Range query end (commit hash), set it to the same as commit1 for a single commit\n",
    "    # optional params\n",
    "    subfolder = \"\", # Subfolder (leave blank for root)\n",
    ")\n",
    "\n",
    "exists = data.existence(commit_params)"
   ]
  },
  {
   "cell_type": "code",
   "execution_count": null,
   "metadata": {},
   "outputs": [],
   "source": [
    "# dictionary of {file path: existence}\n",
    "exists"
   ]
  }
 ],
 "metadata": {
  "kernelspec": {
   "display_name": "Python 3 (ipykernel)",
   "language": "python",
   "name": "python3"
  },
  "language_info": {
   "codemirror_mode": {
    "name": "ipython",
    "version": 3
   },
   "file_extension": ".py",
   "mimetype": "text/x-python",
   "name": "python",
   "nbconvert_exporter": "python",
   "pygments_lexer": "ipython3",
   "version": "3.10.12"
  },
  "vscode": {
   "interpreter": {
    "hash": "916dbcbb3f70747c44a77c7bcd40155683ae19c65e1c03b4aa3499c5328201f1"
   }
  }
 },
 "nbformat": 4,
 "nbformat_minor": 2
}
